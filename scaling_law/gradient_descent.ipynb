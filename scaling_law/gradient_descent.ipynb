{
 "cells": [
  {
   "attachments": {},
   "cell_type": "markdown",
   "metadata": {},
   "source": [
    "# Tutorial 1.2: Gradient descent-based two level optimization"
   ]
  },
  {
   "attachments": {},
   "cell_type": "markdown",
   "metadata": {},
   "source": [
    "- **Authors**: Xiaoyu Xie\n",
    "- **Contact**: xiaoyuxie2020@u.northwestern.edu\n",
    "\n",
    "[![Open In Colab](https://colab.research.google.com/assets/colab-badge.svg)](https://colab.research.google.com/github/xiaoyuxie-vico/PyDimension-Book/blob/main/examples/gradient_descent.ipynb)\n",
    "[![Binder](https://mybinder.org/badge_logo.svg)](https://mybinder.org/v2/gh/xiaoyuxie-vico/PyDimension-Book/HEAD)"
   ]
  },
  {
   "attachments": {},
   "cell_type": "markdown",
   "metadata": {},
   "source": [
    "## Import libraries"
   ]
  },
  {
   "cell_type": "code",
   "execution_count": 1,
   "metadata": {},
   "outputs": [],
   "source": [
    "import matplotlib.pyplot as plt\n",
    "import numpy as np\n",
    "from numpy.linalg import matrix_rank\n",
    "from numpy.linalg import inv\n",
    "import pandas as pd\n",
    "import pysindy as ps\n",
    "import random\n",
    "from sklearn.linear_model import LinearRegression\n",
    "from sklearn.preprocessing import PolynomialFeatures\n",
    "from sklearn.metrics import r2_score\n",
    "from scipy.optimize import minimize\n",
    "random.seed(3)"
   ]
  },
  {
   "cell_type": "code",
   "execution_count": null,
   "metadata": {},
   "outputs": [],
   "source": [
    "# # please uncomment these two lines, if you run this code in Colab\n",
    "# !git clone https://github.com/xiaoyuxie-vico/PyDimension-Book\n",
    "# %cd PyDimension-Book/examples"
   ]
  },
  {
   "attachments": {},
   "cell_type": "markdown",
   "metadata": {},
   "source": [
    "## Parametric space analysis"
   ]
  },
  {
   "cell_type": "markdown",
   "metadata": {},
   "source": [
    "Paraemter list:\n",
    "\n",
    "$f(\\eta P,V_s,r_0, C_p, \\alpha, \\rho, T_l-T_0)=e$"
   ]
  },
  {
   "cell_type": "markdown",
   "metadata": {},
   "source": [
    "## Load dataset"
   ]
  },
  {
   "cell_type": "code",
   "execution_count": 2,
   "metadata": {},
   "outputs": [],
   "source": [
    "data = np.loadtxt(\n",
    "    open(\"../dataset/dataset_keyhole.csv\",\"rb\"),\n",
    "    delimiter=',',\n",
    "    skiprows=1,\n",
    "    usecols = (2, 3, 4, 7, 5, 6, 10, 12)\n",
    ")\n",
    "X = data[:, :7]\n",
    "Y = data[:, 7]"
   ]
  },
  {
   "cell_type": "markdown",
   "metadata": {},
   "source": [
    "## Calculate dimension matrix"
   ]
  },
  {
   "cell_type": "markdown",
   "metadata": {},
   "source": [
    "Dimension matrix (input):\n",
    "\n",
    "\\begin{equation}  \n",
    "D_{in}=\n",
    "\\left[                \n",
    "  \\begin{array}{ccc}  \n",
    "    2 & 1 & 1 & 2 &2&-3&0\\\\  \n",
    "    -3 & -1 & 0 & -2 &-1&0&0\\\\  \n",
    "    1& 0 & 0 & 0 &0&1&0\\\\\n",
    "    0& 0 & 0 & -1 &0&0&1\\\\\n",
    "  \\end{array}\n",
    "\\right]              \n",
    "\\end{equation}\n",
    "\n",
    "Dimension matrix (output):\n",
    "\n",
    "\\begin{equation}\n",
    "D_{out}=\n",
    "\\left[                \n",
    "  \\begin{array}{ccc}  \n",
    "    1 \\\\  \n",
    "    0 \\\\  \n",
    "    0 \\\\\n",
    "    0 \\\\\n",
    "  \\end{array}\n",
    "\\right]              \n",
    "\\end{equation}"
   ]
  },
  {
   "cell_type": "code",
   "execution_count": 3,
   "metadata": {
    "scrolled": true
   },
   "outputs": [
    {
     "name": "stdout",
     "output_type": "stream",
     "text": [
      "4\n"
     ]
    }
   ],
   "source": [
    "D_in = np.mat('2, 1, 1, 2, 2, -3, 0; -3, -1, 0, -2, -1, 0, 0; 1, 0, 0, 0, 0, 1, 0; 0, 0, 0, -1, 0, 0, 1')\n",
    "D_out = np.mat('1; 0; 0; 0')\n",
    "D_in_rank = matrix_rank(D_in)\n",
    "print(D_in_rank)"
   ]
  },
  {
   "cell_type": "markdown",
   "metadata": {},
   "source": [
    "## Calculate basis vectors"
   ]
  },
  {
   "cell_type": "markdown",
   "metadata": {},
   "source": [
    "Calculate three basis vectors for equation:\n",
    "$\n",
    "D_{in}x=0\n",
    "$\n"
   ]
  },
  {
   "cell_type": "code",
   "execution_count": 4,
   "metadata": {
    "scrolled": true
   },
   "outputs": [
    {
     "name": "stdout",
     "output_type": "stream",
     "text": [
      "basis1_in: \n",
      "[[ 0.]\n",
      " [ 1.]\n",
      " [ 1.]\n",
      " [ 0.]\n",
      " [-1.]\n",
      " [ 0.]\n",
      " [ 0.]]\n",
      "basis2_in: \n",
      "[[ 1.]\n",
      " [-3.]\n",
      " [-2.]\n",
      " [ 0.]\n",
      " [ 0.]\n",
      " [-1.]\n",
      " [ 0.]]\n",
      "basis3_in: \n",
      "[[ 0.]\n",
      " [ 2.]\n",
      " [ 0.]\n",
      " [-1.]\n",
      " [ 0.]\n",
      " [ 0.]\n",
      " [-1.]]\n"
     ]
    }
   ],
   "source": [
    "Din1 = D_in[:, 0:4]\n",
    "Din2 = D_in[:, 4:8]\n",
    "\n",
    "x2 = np.mat('-1; 0; 0')\n",
    "x1 = -inv(Din1) * Din2 * x2\n",
    "basis1_in = np.vstack((x1, x2))\n",
    "print(f'basis1_in: \\n{basis1_in}')\n",
    "\n",
    "x2 = np.mat('0;-1;0')\n",
    "x1 = -inv(Din1) * Din2 * x2\n",
    "basis2_in = np.vstack((x1, x2))\n",
    "print(f'basis2_in: \\n{basis2_in}')\n",
    "\n",
    "x2 = np.mat('0; 0; -1')\n",
    "x1 = -inv(Din1) * Din2 * x2\n",
    "basis3_in = np.vstack((x1, x2))\n",
    "print(f'basis3_in: \\n{basis3_in}')"
   ]
  },
  {
   "attachments": {},
   "cell_type": "markdown",
   "metadata": {},
   "source": [
    "## Helper functions"
   ]
  },
  {
   "cell_type": "code",
   "execution_count": 5,
   "metadata": {},
   "outputs": [],
   "source": [
    "def calc_pi(a):\n",
    "    '''\n",
    "    Calculate pi\n",
    "    Note that the best coef for keyhole is [0.5, 1, 1]\n",
    "    '''\n",
    "    coef_pi = 0.5 * basis1_in + a[0] * basis2_in + a[1] * basis3_in\n",
    "    pi_mat = np.exp(np.log(X).dot(coef_pi))\n",
    "    pi = np.squeeze(np.asarray(pi_mat))\n",
    "    return pi\n",
    "\n",
    "def calc_y(a, w):\n",
    "    '''\n",
    "    Calculate the prediction y using a polynomial function\n",
    "    '''\n",
    "    pi = calc_pi(a)\n",
    "    y = w[0] + w[1] * pi + w[2] * pi**2 + w[3] * pi**3 + w[4] * pi**4 + w[5] * pi**5\n",
    "    return y\n",
    "\n",
    "def objective(a, w):\n",
    "    '''\n",
    "    Calculate objective(loss)\n",
    "    '''\n",
    "    return np.square(pi2 - calc_y(a, w)).mean()\n",
    "\n",
    "def ploter(pi1, pi2, iteration):\n",
    "    '''\n",
    "    Visualization\n",
    "    '''\n",
    "    fig = plt.figure()\n",
    "    plt.scatter(pi1, pi2)\n",
    "    plt.xlabel(r'$\\Pi_1$', fontsize=16)\n",
    "    plt.ylabel(r'$\\Pi_2$', fontsize=16)\n",
    "    plt.title(f'Iteration: {iteration}', fontsize=24)\n",
    "    plt.show()"
   ]
  },
  {
   "attachments": {},
   "cell_type": "markdown",
   "metadata": {},
   "source": [
    "## Best representation learning discovery"
   ]
  },
  {
   "cell_type": "code",
   "execution_count": 6,
   "metadata": {},
   "outputs": [
    {
     "name": "stdout",
     "output_type": "stream",
     "text": [
      "Initial a=[0.47592925 1.08845845]\n",
      "Iteration: 0, coef: [0.47655508 1.08822897], Objective: 6.774411431102805, r2: -6.029830431357665\n"
     ]
    },
    {
     "data": {
      "image/png": "[encoded data removed]",
      "text/plain": [
       "<Figure size 640x480 with 1 Axes>"
      ]
     },
     "metadata": {},
     "output_type": "display_data"
    },
    {
     "name": "stdout",
     "output_type": "stream",
     "text": [
      "Iteration: 1000, coef: [0.83210715 0.91871379], Objective: 0.34713452499937103, r2: 0.9535269294147469\n"
     ]
    },
    {
     "data": {
      "image/png": "[encoded data removed]",
      "text/plain": [
       "<Figure size 640x480 with 1 Axes>"
      ]
     },
     "metadata": {},
     "output_type": "display_data"
    },
    {
     "name": "stdout",
     "output_type": "stream",
     "text": [
      "Iteration: 2000, coef: [0.88125833 0.8855296 ], Objective: 0.10920698118338781, r2: 0.9857184358093292\n"
     ]
    },
    {
     "data": {
      "image/png": "[encoded data removed]",
      "text/plain": [
       "<Figure size 640x480 with 1 Axes>"
      ]
     },
     "metadata": {},
     "output_type": "display_data"
    }
   ],
   "source": [
    "niter = 3000\n",
    "ninital = 1\n",
    "degree = 5  # polynomial order\n",
    "\n",
    "a = np.zeros(2)\n",
    "w = np.zeros(degree + 1)\n",
    "\n",
    "global pi2\n",
    "pi2 = Y / X[:,2]\n",
    "\n",
    "poly = PolynomialFeatures(degree)\n",
    "\n",
    "for j in range(ninital):\n",
    "    a[0] = 2 * random.random()\n",
    "    a[1] = 2 * random.random()\n",
    "    print(f'Initial a={a}') \n",
    "    \n",
    "    info = {}\n",
    "    info['initial'] = a\n",
    "    a_history = np.zeros((niter, 2))\n",
    "    \n",
    "    model = LinearRegression(fit_intercept=False)\n",
    "\n",
    "    for i in range(niter):\n",
    "        # level 1: update coefficient w for polynomials\n",
    "        pi1 = calc_pi(a)\n",
    "        \n",
    "        pi1_poly = poly.fit_transform(pi1.reshape(-1, 1))\n",
    "        \n",
    "        model.fit(pi1_poly, pi2)\n",
    "        \n",
    "        coeffi = model.coef_\n",
    "        w = coeffi\n",
    "        \n",
    "        y_recover = calc_y(a, w)       \n",
    "        r2 = r2_score(y_recover, pi2)\n",
    "\n",
    "        # level 2: update coefficient a for pi\n",
    "        solution = minimize(objective, a, method='BFGS', tol=1e-3, args=w, options={'maxiter':1})\n",
    "        a = solution.x\n",
    "        y_recover = calc_y(a, w)\n",
    "        r2 = r2_score(y_recover, pi2) \n",
    "\n",
    "        a_history[i,:] = a\n",
    "        if i % int(niter // 3) == 0:\n",
    "            # Note that the best coef in keyhole case is [0.5, 1, 1]\n",
    "            # here we only optimize the last two coefficients\n",
    "            print(f'Iteration: {i}, coef: {a}, Objective: {objective(a,w)}, r2: {r2}')\n",
    "            ploter(pi1, pi2, i)"
   ]
  },
  {
   "cell_type": "code",
   "execution_count": null,
   "metadata": {},
   "outputs": [],
   "source": []
  }
 ],
 "metadata": {
  "kernelspec": {
   "display_name": "PyDimension",
   "language": "python",
   "name": "python3"
  },
  "language_info": {
   "codemirror_mode": {
    "name": "ipython",
    "version": 3
   },
   "file_extension": ".py",
   "mimetype": "text/x-python",
   "name": "python",
   "nbconvert_exporter": "python",
   "pygments_lexer": "ipython3",
   "version": "3.11.0"
  },
  "toc": {
   "base_numbering": 1,
   "nav_menu": {},
   "number_sections": true,
   "sideBar": true,
   "skip_h1_title": false,
   "title_cell": "Table of Contents",
   "title_sidebar": "Contents",
   "toc_cell": true,
   "toc_position": {},
   "toc_section_display": true,
   "toc_window_display": true
  },
  "vscode": {
   "interpreter": {
    "hash": "904ec0901b1dab60cbb175cce6563014087aab52b2a683f993104952735b0829"
   }
  }
 },
 "nbformat": 4,
 "nbformat_minor": 4
}
